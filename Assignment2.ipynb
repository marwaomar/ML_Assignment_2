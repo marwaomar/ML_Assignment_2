{
 "cells": [
  {
   "cell_type": "markdown",
   "metadata": {},
   "source": [
    "## Load Data"
   ]
  },
  {
   "cell_type": "code",
   "execution_count": 39,
   "metadata": {},
   "outputs": [],
   "source": [
    "import csv\n",
    "import pandas as pd\n",
    "import numpy as np\n",
    "#To use The univariate data just uncomment second line and comment the following one\n",
    "# data=np.loadtxt('multivariateData.dat',delimiter=',')\n",
    "data=np.loadtxt('univariateData.dat',delimiter=',')"
   ]
  },
  {
   "cell_type": "markdown",
   "metadata": {},
   "source": [
    "## Matrix Multiplication (as in a0+a1x)"
   ]
  },
  {
   "cell_type": "code",
   "execution_count": 40,
   "metadata": {},
   "outputs": [],
   "source": [
    "def matrixMulti(theta, X, n):\n",
    "    h = np.ones((X.shape[0],1))\n",
    "    theta = theta.reshape(1,n+1)\n",
    "    for i in range(0,X.shape[0]):\n",
    "        h[i] = float(np.matmul(theta, X[i]))\n",
    "    h = h.reshape(X.shape[0])\n",
    "    return h"
   ]
  },
  {
   "cell_type": "markdown",
   "metadata": {},
   "source": [
    "## Computing Cost\n"
   ]
  },
  {
   "cell_type": "code",
   "execution_count": 41,
   "metadata": {},
   "outputs": [],
   "source": [
    "def computeCost(X,y,h):\n",
    "    cost = (1/X.shape[0]) * 0.5 * sum(np.square(h - y))\n",
    "    return cost"
   ]
  },
  {
   "cell_type": "markdown",
   "metadata": {},
   "source": [
    "## Computing Gradient Descent"
   ]
  },
  {
   "cell_type": "code",
   "execution_count": 42,
   "metadata": {},
   "outputs": [],
   "source": [
    "def gradientDescent(theta, alpha, num_iters, h, X, y, n):\n",
    "    cost = np.ones(num_iters)\n",
    "    for i in range(0,num_iters):\n",
    "        theta[0] = theta[0] - (alpha/X.shape[0]) * sum(h - y)\n",
    "        for j in range(1,n+1):\n",
    "            theta[j] = theta[j] - (alpha/X.shape[0]) * sum((h-y) * X.transpose()[j])\n",
    "        h = matrixMulti(theta, X, n)\n",
    "        cost[i] = computeCost(X,y,h)\n",
    "    theta = theta.reshape(1,n+1)\n",
    "    return theta, cost"
   ]
  },
  {
   "cell_type": "markdown",
   "metadata": {},
   "source": [
    "## Fit Function \n"
   ]
  },
  {
   "cell_type": "code",
   "execution_count": 43,
   "metadata": {},
   "outputs": [],
   "source": [
    "def fit(X, y, alpha, num_iters):\n",
    "    n = X.shape[1]\n",
    "    one_column = np.ones((X.shape[0],1))\n",
    "    X = np.concatenate((one_column, X), axis = 1)\n",
    "    # initializing the parameter vector...\n",
    "    theta = np.zeros(n+1)\n",
    "    # matrixMulti calculation....\n",
    "    h = matrixMulti(theta, X, n)\n",
    "    # returning the optimized parameters by Gradient Descent...\n",
    "    theta, cost = gradientDescent(theta,alpha,num_iters,h,X,y,n)\n",
    "    return theta"
   ]
  },
  {
   "cell_type": "markdown",
   "metadata": {},
   "source": [
    "## Split Data to train and Test"
   ]
  },
  {
   "cell_type": "code",
   "execution_count": 44,
   "metadata": {},
   "outputs": [],
   "source": [
    "from sklearn.model_selection import train_test_split\n",
    "X=data[:,:-1]\n",
    "y=data[:,-1]\n",
    "X_train, X_test, y_train, y_test = train_test_split(X, y, test_size=0.3, random_state=42)\n"
   ]
  },
  {
   "cell_type": "markdown",
   "metadata": {},
   "source": [
    "## Scaing data function\n"
   ]
  },
  {
   "cell_type": "code",
   "execution_count": 45,
   "metadata": {},
   "outputs": [],
   "source": [
    "def scaling(dataToScale):\n",
    "    mean = np.ones(dataToScale.shape[1])\n",
    "    std = np.ones(dataToScale.shape[1])\n",
    "    for i in range(0, dataToScale.shape[1]):\n",
    "        mean[i] = np.mean(dataToScale.transpose()[i])\n",
    "        std[i] = np.std(dataToScale.transpose()[i])\n",
    "        for j in range(0, dataToScale.shape[0]):\n",
    "            dataToScale[j][i] = (dataToScale[j][i] - mean[i])/std[i]\n",
    "\n",
    "    return dataToScale\n",
    "X_train=scaling(X_train)"
   ]
  },
  {
   "cell_type": "markdown",
   "metadata": {},
   "source": [
    "## Calling the linear regression function with learning_rate = 0.0001 and num_iters = 100000"
   ]
  },
  {
   "cell_type": "code",
   "execution_count": 46,
   "metadata": {},
   "outputs": [
    {
     "data": {
      "text/plain": [
       "array([[5.94309165, 4.80297162]])"
      ]
     },
     "execution_count": 46,
     "metadata": {},
     "output_type": "execute_result"
    }
   ],
   "source": [
    "theta = fit(X_train, y_train,0.0001, 100000)\n",
    "theta"
   ]
  },
  {
   "cell_type": "markdown",
   "metadata": {},
   "source": [
    "## Preparing Vectors for multiplication"
   ]
  },
  {
   "cell_type": "code",
   "execution_count": 47,
   "metadata": {},
   "outputs": [],
   "source": [
    "def vectorization(data):\n",
    "    data=scaling(data)\n",
    "    data = np.concatenate((np.ones((data.shape[0],1)), data),axis = 1)\n",
    "    return data\n"
   ]
  },
  {
   "cell_type": "markdown",
   "metadata": {},
   "source": [
    "## Prediction Function"
   ]
  },
  {
   "cell_type": "code",
   "execution_count": 48,
   "metadata": {},
   "outputs": [
    {
     "name": "stdout",
     "output_type": "stream",
     "text": [
      "[17.929    0.55657  1.9869   3.6518   0.20421  7.5435  17.054    5.3854\n",
      "  3.2522  17.592    5.9966   0.29678  1.844   13.501    6.7318   6.8233\n",
      "  4.263    3.1551   2.8214   3.3411   1.0179   6.6799   1.0173   3.5129\n",
      "  5.4974   1.8495   3.8166   0.47953 15.505    4.8852 ]\n"
     ]
    },
    {
     "data": {
      "text/plain": [
       "array([21.94410875,  3.01826045,  2.89723213,  4.23772511,  2.75772165,\n",
       "        8.21925875, 19.17774715, 10.53167473,  3.38051073,  3.85675419,\n",
       "        4.42827019,  4.3787857 ,  3.48866116, 11.86715964,  5.90123851,\n",
       "        3.55829716,  3.1174679 ,  3.40829359,  2.60390241,  5.18723104,\n",
       "        3.17887636,  8.65722626,  3.12855719,  2.98546952,  4.14686444,\n",
       "        3.59645387,  2.5981789 ,  3.40257008, 13.46020236,  5.17804958])"
      ]
     },
     "execution_count": 48,
     "metadata": {},
     "output_type": "execute_result"
    }
   ],
   "source": [
    " \n",
    "def predict(predictiondata):\n",
    "    predictiondata = vectorization(predictiondata)  \n",
    "    predictions = matrixMulti(theta,predictiondata, predictiondata.shape[1] - 1)\n",
    "    return predictions\n",
    "y_predict=predict(X_test)\n",
    "print(y_test)\n",
    "y_predict"
   ]
  },
  {
   "cell_type": "markdown",
   "metadata": {},
   "source": [
    "## Calculating Accuracy "
   ]
  },
  {
   "cell_type": "code",
   "execution_count": 49,
   "metadata": {},
   "outputs": [
    {
     "data": {
      "text/plain": [
       "0.608541750529632"
      ]
     },
     "execution_count": 49,
     "metadata": {},
     "output_type": "execute_result"
    }
   ],
   "source": [
    "def EvaluatePerformance(y_,y):\n",
    "#Evaluating preformance by using R^2 method\n",
    "    sst = np.sum((y-y.mean())**2)\n",
    "    ssr = np.sum((y_-y)**2)\n",
    "    r2 = 1-(ssr/sst)\n",
    "    return(r2)\n",
    "\n",
    "EvaluatePerformance(y_predict,y_test)"
   ]
  },
  {
   "cell_type": "markdown",
   "metadata": {},
   "source": [
    "## Comparing between this method and the original model from sklearn:"
   ]
  },
  {
   "cell_type": "code",
   "execution_count": 50,
   "metadata": {},
   "outputs": [
    {
     "name": "stdout",
     "output_type": "stream",
     "text": [
      "Implementation of Code [21.94410875  3.01826045  2.89723213  4.23772511  2.75772165  8.21925875\n",
      " 19.17774715 10.53167473  3.38051073  3.85675419  4.42827019  4.3787857\n",
      "  3.48866116 11.86715964  5.90123851  3.55829716  3.1174679   3.40829359\n",
      "  2.60390241  5.18723104  3.17887636  8.65722626  3.12855719  2.98546952\n",
      "  4.14686444  3.59645387  2.5981789   3.40257008 13.46020236  5.17804958]\n",
      "Library Model Results [21.94510456  3.01839742  2.8973636   4.23791742  2.75784679  8.21963173\n",
      " 19.17861742 10.53215265  3.38066414  3.85692921  4.42847114  4.37898441\n",
      "  3.48881947 11.86769816  5.9015063   3.55845863  3.11760937  3.40844825\n",
      "  2.60402057  5.18746643  3.17902061  8.65761912  3.12869917  2.985605\n",
      "  4.14705262  3.59661708  2.5982968   3.40272449 13.46081317  5.17828455]\n"
     ]
    },
    {
     "data": {
      "text/plain": [
       "0.6085249061106279"
      ]
     },
     "execution_count": 50,
     "metadata": {},
     "output_type": "execute_result"
    }
   ],
   "source": [
    "import numpy as np\n",
    "from sklearn.linear_model import LinearRegression\n",
    "clf = LinearRegression()\n",
    "reg=clf.fit(X_train, y_train)\n",
    "\n",
    "pred=reg.predict(X_test)\n",
    "print('Implementation of Code',y_predict)\n",
    "print('Library Model Results',pred)\n",
    "EvaluatePerformance(pred,y_test)"
   ]
  },
  {
   "cell_type": "code",
   "execution_count": null,
   "metadata": {},
   "outputs": [],
   "source": []
  },
  {
   "cell_type": "code",
   "execution_count": null,
   "metadata": {},
   "outputs": [],
   "source": []
  }
 ],
 "metadata": {
  "kernelspec": {
   "display_name": "Python 3",
   "language": "python",
   "name": "python3"
  },
  "language_info": {
   "codemirror_mode": {
    "name": "ipython",
    "version": 3
   },
   "file_extension": ".py",
   "mimetype": "text/x-python",
   "name": "python",
   "nbconvert_exporter": "python",
   "pygments_lexer": "ipython3",
   "version": "3.7.4"
  }
 },
 "nbformat": 4,
 "nbformat_minor": 2
}
